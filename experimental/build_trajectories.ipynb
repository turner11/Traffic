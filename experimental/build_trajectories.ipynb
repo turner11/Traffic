{
 "cells": [
  {
   "cell_type": "markdown",
   "metadata": {},
   "source": [
    "### Building trajectories\n",
    "based on ideas from [here](https://towardsdatascience.com/four-ways-to-quantify-synchrony-between-time-series-data-b99136c4a9c9)"
   ]
  },
  {
   "cell_type": "code",
   "execution_count": 88,
   "metadata": {},
   "outputs": [],
   "source": [
    "import pandas as pd\n",
    "import numpy as np\n",
    "from pathlib import Path\n",
    "import matplotlib.pyplot as plt\n",
    "import seaborn as sns\n",
    "from data_access.loader import load_processed_data\n",
    "import logging "
   ]
  },
  {
   "cell_type": "code",
   "execution_count": 89,
   "metadata": {},
   "outputs": [],
   "source": [
    "pd.set_option('display.max_rows', 500)\n",
    "pd.set_option('display.max_columns', 500)\n",
    "pd.set_option('display.width', 1000)"
   ]
  },
  {
   "cell_type": "code",
   "execution_count": 90,
   "metadata": {},
   "outputs": [
    {
     "data": {
      "text/plain": [
       "'D:\\\\Users\\\\avitu\\\\Downloads\\\\parquets\\\\2\\\\tracking.prqt'"
      ]
     },
     "execution_count": 90,
     "metadata": {},
     "output_type": "execute_result"
    }
   ],
   "source": [
    "FOLDER_NAME = '2'\n",
    "file_name = r'tracking.prqt'\n",
    "root = r'D:\\Users\\avitu\\Downloads\\parquets'\n",
    "_path = Path(root)/ FOLDER_NAME/ file_name\n",
    "path = str(_path)\n",
    "path"
   ]
  },
  {
   "cell_type": "code",
   "execution_count": 91,
   "metadata": {},
   "outputs": [],
   "source": [
    "logging.basicConfig(format='%(asctime)s [%(name)s] [%(levelname)s] %(message)s')"
   ]
  },
  {
   "cell_type": "code",
   "execution_count": 92,
   "metadata": {},
   "outputs": [],
   "source": [
    "df_raw = load_processed_data(path)"
   ]
  },
  {
   "cell_type": "code",
   "execution_count": 93,
   "metadata": {},
   "outputs": [],
   "source": [
    "df = df_raw.copy()"
   ]
  },
  {
   "cell_type": "code",
   "execution_count": 94,
   "metadata": {},
   "outputs": [
    {
     "data": {
      "text/html": [
       "<div>\n",
       "<style scoped>\n",
       "    .dataframe tbody tr th:only-of-type {\n",
       "        vertical-align: middle;\n",
       "    }\n",
       "\n",
       "    .dataframe tbody tr th {\n",
       "        vertical-align: top;\n",
       "    }\n",
       "\n",
       "    .dataframe thead th {\n",
       "        text-align: right;\n",
       "    }\n",
       "</style>\n",
       "<table border=\"1\" class=\"dataframe\">\n",
       "  <thead>\n",
       "    <tr style=\"text-align: right;\">\n",
       "      <th></th>\n",
       "      <th>id</th>\n",
       "      <th>frame</th>\n",
       "      <th>x</th>\n",
       "      <th>y</th>\n",
       "      <th>w</th>\n",
       "      <th>h</th>\n",
       "      <th>label</th>\n",
       "      <th>x_prev</th>\n",
       "      <th>y_prev</th>\n",
       "      <th>angle</th>\n",
       "      <th>angle_prev</th>\n",
       "      <th>angle_diff</th>\n",
       "      <th>distance</th>\n",
       "      <th>cum_distance</th>\n",
       "    </tr>\n",
       "  </thead>\n",
       "  <tbody>\n",
       "    <tr>\n",
       "      <th>20401</th>\n",
       "      <td>357</td>\n",
       "      <td>9668</td>\n",
       "      <td>347</td>\n",
       "      <td>235</td>\n",
       "      <td>37</td>\n",
       "      <td>19</td>\n",
       "      <td>car</td>\n",
       "      <td>349.0</td>\n",
       "      <td>235.0</td>\n",
       "      <td>180.000000</td>\n",
       "      <td>161.565051</td>\n",
       "      <td>18.434949</td>\n",
       "      <td>2.000000</td>\n",
       "      <td>208.980230</td>\n",
       "    </tr>\n",
       "    <tr>\n",
       "      <th>20402</th>\n",
       "      <td>357</td>\n",
       "      <td>9669</td>\n",
       "      <td>340</td>\n",
       "      <td>228</td>\n",
       "      <td>37</td>\n",
       "      <td>19</td>\n",
       "      <td>car</td>\n",
       "      <td>347.0</td>\n",
       "      <td>235.0</td>\n",
       "      <td>225.000000</td>\n",
       "      <td>180.000000</td>\n",
       "      <td>45.000000</td>\n",
       "      <td>9.899495</td>\n",
       "      <td>218.879725</td>\n",
       "    </tr>\n",
       "    <tr>\n",
       "      <th>20404</th>\n",
       "      <td>357</td>\n",
       "      <td>9671</td>\n",
       "      <td>304</td>\n",
       "      <td>242</td>\n",
       "      <td>37</td>\n",
       "      <td>19</td>\n",
       "      <td>car</td>\n",
       "      <td>316.0</td>\n",
       "      <td>240.0</td>\n",
       "      <td>170.537678</td>\n",
       "      <td>153.434949</td>\n",
       "      <td>17.102729</td>\n",
       "      <td>12.165525</td>\n",
       "      <td>257.878066</td>\n",
       "    </tr>\n",
       "    <tr>\n",
       "      <th>20405</th>\n",
       "      <td>357</td>\n",
       "      <td>9672</td>\n",
       "      <td>302</td>\n",
       "      <td>243</td>\n",
       "      <td>37</td>\n",
       "      <td>19</td>\n",
       "      <td>car</td>\n",
       "      <td>304.0</td>\n",
       "      <td>242.0</td>\n",
       "      <td>153.434949</td>\n",
       "      <td>170.537678</td>\n",
       "      <td>17.102729</td>\n",
       "      <td>2.236068</td>\n",
       "      <td>260.114134</td>\n",
       "    </tr>\n",
       "    <tr>\n",
       "      <th>20406</th>\n",
       "      <td>357</td>\n",
       "      <td>9673</td>\n",
       "      <td>300</td>\n",
       "      <td>242</td>\n",
       "      <td>37</td>\n",
       "      <td>19</td>\n",
       "      <td>car</td>\n",
       "      <td>302.0</td>\n",
       "      <td>243.0</td>\n",
       "      <td>206.565051</td>\n",
       "      <td>153.434949</td>\n",
       "      <td>53.130102</td>\n",
       "      <td>2.236068</td>\n",
       "      <td>262.350202</td>\n",
       "    </tr>\n",
       "  </tbody>\n",
       "</table>\n",
       "</div>"
      ],
      "text/plain": [
       "        id  frame    x    y   w   h label  x_prev  y_prev       angle  angle_prev  angle_diff   distance  cum_distance\n",
       "20401  357   9668  347  235  37  19   car   349.0   235.0  180.000000  161.565051   18.434949   2.000000    208.980230\n",
       "20402  357   9669  340  228  37  19   car   347.0   235.0  225.000000  180.000000   45.000000   9.899495    218.879725\n",
       "20404  357   9671  304  242  37  19   car   316.0   240.0  170.537678  153.434949   17.102729  12.165525    257.878066\n",
       "20405  357   9672  302  243  37  19   car   304.0   242.0  153.434949  170.537678   17.102729   2.236068    260.114134\n",
       "20406  357   9673  300  242  37  19   car   302.0   243.0  206.565051  153.434949   53.130102   2.236068    262.350202"
      ]
     },
     "execution_count": 94,
     "metadata": {},
     "output_type": "execute_result"
    }
   ],
   "source": [
    "df.tail()\n",
    "# df.describe()"
   ]
  },
  {
   "cell_type": "markdown",
   "metadata": {},
   "source": [
    "#### Build dummy data"
   ]
  },
  {
   "cell_type": "code",
   "execution_count": 95,
   "metadata": {},
   "outputs": [
    {
     "data": {
      "text/html": [
       "<div>\n",
       "<style scoped>\n",
       "    .dataframe tbody tr th:only-of-type {\n",
       "        vertical-align: middle;\n",
       "    }\n",
       "\n",
       "    .dataframe tbody tr th {\n",
       "        vertical-align: top;\n",
       "    }\n",
       "\n",
       "    .dataframe thead th {\n",
       "        text-align: right;\n",
       "    }\n",
       "</style>\n",
       "<table border=\"1\" class=\"dataframe\">\n",
       "  <thead>\n",
       "    <tr style=\"text-align: right;\">\n",
       "      <th></th>\n",
       "      <th>frame</th>\n",
       "    </tr>\n",
       "    <tr>\n",
       "      <th>id</th>\n",
       "      <th></th>\n",
       "    </tr>\n",
       "  </thead>\n",
       "  <tbody>\n",
       "    <tr>\n",
       "      <th>206</th>\n",
       "      <td>299</td>\n",
       "    </tr>\n",
       "    <tr>\n",
       "      <th>268</th>\n",
       "      <td>300</td>\n",
       "    </tr>\n",
       "    <tr>\n",
       "      <th>59</th>\n",
       "      <td>300</td>\n",
       "    </tr>\n",
       "    <tr>\n",
       "      <th>283</th>\n",
       "      <td>372</td>\n",
       "    </tr>\n",
       "    <tr>\n",
       "      <th>270</th>\n",
       "      <td>449</td>\n",
       "    </tr>\n",
       "  </tbody>\n",
       "</table>\n",
       "</div>"
      ],
      "text/plain": [
       "     frame\n",
       "id        \n",
       "206    299\n",
       "268    300\n",
       "59     300\n",
       "283    372\n",
       "270    449"
      ]
     },
     "execution_count": 95,
     "metadata": {},
     "output_type": "execute_result"
    }
   ],
   "source": [
    "df.groupby('id').agg({'frame':'count'}).sort_values('frame').tail(5)"
   ]
  },
  {
   "cell_type": "code",
   "execution_count": 96,
   "metadata": {},
   "outputs": [
    {
     "data": {
      "image/png": "[encoded data removed]",
      "text/plain": [
       "<Figure size 432x288 with 1 Axes>"
      ]
     },
     "metadata": {
      "needs_background": "light"
     },
     "output_type": "display_data"
    },
    {
     "name": "stdout",
     "output_type": "stream",
     "text": [
      "148 148 75\n"
     ]
    },
    {
     "data": {
      "text/html": [
       "<div>\n",
       "<style scoped>\n",
       "    .dataframe tbody tr th:only-of-type {\n",
       "        vertical-align: middle;\n",
       "    }\n",
       "\n",
       "    .dataframe tbody tr th {\n",
       "        vertical-align: top;\n",
       "    }\n",
       "\n",
       "    .dataframe thead th {\n",
       "        text-align: right;\n",
       "    }\n",
       "</style>\n",
       "<table border=\"1\" class=\"dataframe\">\n",
       "  <thead>\n",
       "    <tr style=\"text-align: right;\">\n",
       "      <th></th>\n",
       "      <th>frame_1</th>\n",
       "      <th>id_1</th>\n",
       "      <th>x_1</th>\n",
       "      <th>y_1</th>\n",
       "      <th>angle_diff_1</th>\n",
       "      <th>angle_1</th>\n",
       "      <th>frame_2</th>\n",
       "      <th>id_2</th>\n",
       "      <th>x_2</th>\n",
       "      <th>y_2</th>\n",
       "      <th>angle_diff_2</th>\n",
       "      <th>angle_2</th>\n",
       "    </tr>\n",
       "  </thead>\n",
       "  <tbody>\n",
       "    <tr>\n",
       "      <th>138</th>\n",
       "      <td>8918</td>\n",
       "      <td>285</td>\n",
       "      <td>138</td>\n",
       "      <td>238</td>\n",
       "      <td>180.0</td>\n",
       "      <td>180.0</td>\n",
       "      <td>NaN</td>\n",
       "      <td>NaN</td>\n",
       "      <td>NaN</td>\n",
       "      <td>NaN</td>\n",
       "      <td>NaN</td>\n",
       "      <td>NaN</td>\n",
       "    </tr>\n",
       "    <tr>\n",
       "      <th>139</th>\n",
       "      <td>8919</td>\n",
       "      <td>285</td>\n",
       "      <td>139</td>\n",
       "      <td>237</td>\n",
       "      <td>135.0</td>\n",
       "      <td>315.0</td>\n",
       "      <td>NaN</td>\n",
       "      <td>NaN</td>\n",
       "      <td>NaN</td>\n",
       "      <td>NaN</td>\n",
       "      <td>NaN</td>\n",
       "      <td>NaN</td>\n",
       "    </tr>\n",
       "    <tr>\n",
       "      <th>140</th>\n",
       "      <td>8920</td>\n",
       "      <td>285</td>\n",
       "      <td>140</td>\n",
       "      <td>237</td>\n",
       "      <td>45.0</td>\n",
       "      <td>0.0</td>\n",
       "      <td>NaN</td>\n",
       "      <td>NaN</td>\n",
       "      <td>NaN</td>\n",
       "      <td>NaN</td>\n",
       "      <td>NaN</td>\n",
       "      <td>NaN</td>\n",
       "    </tr>\n",
       "    <tr>\n",
       "      <th>141</th>\n",
       "      <td>8921</td>\n",
       "      <td>285</td>\n",
       "      <td>141</td>\n",
       "      <td>237</td>\n",
       "      <td>0.0</td>\n",
       "      <td>0.0</td>\n",
       "      <td>NaN</td>\n",
       "      <td>NaN</td>\n",
       "      <td>NaN</td>\n",
       "      <td>NaN</td>\n",
       "      <td>NaN</td>\n",
       "      <td>NaN</td>\n",
       "    </tr>\n",
       "    <tr>\n",
       "      <th>142</th>\n",
       "      <td>8922</td>\n",
       "      <td>285</td>\n",
       "      <td>142</td>\n",
       "      <td>237</td>\n",
       "      <td>0.0</td>\n",
       "      <td>0.0</td>\n",
       "      <td>NaN</td>\n",
       "      <td>NaN</td>\n",
       "      <td>NaN</td>\n",
       "      <td>NaN</td>\n",
       "      <td>NaN</td>\n",
       "      <td>NaN</td>\n",
       "    </tr>\n",
       "    <tr>\n",
       "      <th>143</th>\n",
       "      <td>8923</td>\n",
       "      <td>285</td>\n",
       "      <td>143</td>\n",
       "      <td>237</td>\n",
       "      <td>180.0</td>\n",
       "      <td>180.0</td>\n",
       "      <td>NaN</td>\n",
       "      <td>NaN</td>\n",
       "      <td>NaN</td>\n",
       "      <td>NaN</td>\n",
       "      <td>NaN</td>\n",
       "      <td>NaN</td>\n",
       "    </tr>\n",
       "    <tr>\n",
       "      <th>144</th>\n",
       "      <td>8924</td>\n",
       "      <td>285</td>\n",
       "      <td>144</td>\n",
       "      <td>237</td>\n",
       "      <td>180.0</td>\n",
       "      <td>0.0</td>\n",
       "      <td>NaN</td>\n",
       "      <td>NaN</td>\n",
       "      <td>NaN</td>\n",
       "      <td>NaN</td>\n",
       "      <td>NaN</td>\n",
       "      <td>NaN</td>\n",
       "    </tr>\n",
       "    <tr>\n",
       "      <th>145</th>\n",
       "      <td>8925</td>\n",
       "      <td>285</td>\n",
       "      <td>145</td>\n",
       "      <td>237</td>\n",
       "      <td>0.0</td>\n",
       "      <td>0.0</td>\n",
       "      <td>NaN</td>\n",
       "      <td>NaN</td>\n",
       "      <td>NaN</td>\n",
       "      <td>NaN</td>\n",
       "      <td>NaN</td>\n",
       "      <td>NaN</td>\n",
       "    </tr>\n",
       "    <tr>\n",
       "      <th>146</th>\n",
       "      <td>8926</td>\n",
       "      <td>285</td>\n",
       "      <td>146</td>\n",
       "      <td>238</td>\n",
       "      <td>45.0</td>\n",
       "      <td>45.0</td>\n",
       "      <td>NaN</td>\n",
       "      <td>NaN</td>\n",
       "      <td>NaN</td>\n",
       "      <td>NaN</td>\n",
       "      <td>NaN</td>\n",
       "      <td>NaN</td>\n",
       "    </tr>\n",
       "    <tr>\n",
       "      <th>147</th>\n",
       "      <td>8927</td>\n",
       "      <td>285</td>\n",
       "      <td>147</td>\n",
       "      <td>238</td>\n",
       "      <td>45.0</td>\n",
       "      <td>0.0</td>\n",
       "      <td>NaN</td>\n",
       "      <td>NaN</td>\n",
       "      <td>NaN</td>\n",
       "      <td>NaN</td>\n",
       "      <td>NaN</td>\n",
       "      <td>NaN</td>\n",
       "    </tr>\n",
       "  </tbody>\n",
       "</table>\n",
       "</div>"
      ],
      "text/plain": [
       "     frame_1  id_1  x_1  y_1  angle_diff_1  angle_1  frame_2  id_2  x_2  y_2  angle_diff_2  angle_2\n",
       "138     8918   285  138  238         180.0    180.0      NaN   NaN  NaN  NaN           NaN      NaN\n",
       "139     8919   285  139  237         135.0    315.0      NaN   NaN  NaN  NaN           NaN      NaN\n",
       "140     8920   285  140  237          45.0      0.0      NaN   NaN  NaN  NaN           NaN      NaN\n",
       "141     8921   285  141  237           0.0      0.0      NaN   NaN  NaN  NaN           NaN      NaN\n",
       "142     8922   285  142  237           0.0      0.0      NaN   NaN  NaN  NaN           NaN      NaN\n",
       "143     8923   285  143  237         180.0    180.0      NaN   NaN  NaN  NaN           NaN      NaN\n",
       "144     8924   285  144  237         180.0      0.0      NaN   NaN  NaN  NaN           NaN      NaN\n",
       "145     8925   285  145  237           0.0      0.0      NaN   NaN  NaN  NaN           NaN      NaN\n",
       "146     8926   285  146  238          45.0     45.0      NaN   NaN  NaN  NaN           NaN      NaN\n",
       "147     8927   285  147  238          45.0      0.0      NaN   NaN  NaN  NaN           NaN      NaN"
      ]
     },
     "execution_count": 96,
     "metadata": {},
     "output_type": "execute_result"
    }
   ],
   "source": [
    "from dtw import dtw,accelerated_dtw\n",
    "cols = ['frame', 'id', 'x','y','angle_diff','angle']\n",
    "drive_id = 285#225 #160 \n",
    "drive_id_2 = 91#331\n",
    "# ddd = df[df.id.isin(ids)][cols].set_index('frame').sort_index()\n",
    "\n",
    "# -----------------------\n",
    "ddd = df[cols].set_index('frame').copy()\n",
    "df_1 = ddd[ddd.id == drive_id].reset_index().copy()\n",
    "df_2 = ddd[ddd.id == drive_id_2].reset_index().copy() if drive_id_2 else df_1.iloc[80:180,:].reset_index().copy()\n",
    "df_1['x'] = df_1.index.values\n",
    "df_2['x'] = df_2.index.values\n",
    "\n",
    "\n",
    "plt.plot(df_1.x,df_1.y,'o', alpha=0.5)\n",
    "plt.plot(df_2.x,df_2.y,'o', alpha=0.7)\n",
    "\n",
    "plt.xlim([min(df_1.x.min(), df_2.x.min())-1, max(df_1.x.max(), df_2.x.max())+ 1 ])\n",
    "plt.show()\n",
    "\n",
    "ddd = df_1.join(df_2, lsuffix='_1', rsuffix='_2', how='outer')\n",
    "print(len(ddd), len(df_1), len(df_2))\n",
    "ddd.tail(10)"
   ]
  },
  {
   "cell_type": "markdown",
   "metadata": {},
   "source": [
    "____\n",
    "##  Time Lagged Cross Correlation — assessing signal dynamics"
   ]
  },
  {
   "cell_type": "code",
   "execution_count": 97,
   "metadata": {},
   "outputs": [
    {
     "data": {
      "text/plain": [
       "\u001b[1;31mSignature:\u001b[0m \u001b[0mpd\u001b[0m\u001b[1;33m.\u001b[0m\u001b[0mSeries\u001b[0m\u001b[1;33m.\u001b[0m\u001b[0mcorr\u001b[0m\u001b[1;33m(\u001b[0m\u001b[0mself\u001b[0m\u001b[1;33m,\u001b[0m \u001b[0mother\u001b[0m\u001b[1;33m,\u001b[0m \u001b[0mmethod\u001b[0m\u001b[1;33m=\u001b[0m\u001b[1;34m'pearson'\u001b[0m\u001b[1;33m,\u001b[0m \u001b[0mmin_periods\u001b[0m\u001b[1;33m=\u001b[0m\u001b[1;32mNone\u001b[0m\u001b[1;33m)\u001b[0m\u001b[1;33m\u001b[0m\u001b[1;33m\u001b[0m\u001b[0m\n",
       "\u001b[1;31mDocstring:\u001b[0m\n",
       "Compute correlation with `other` Series, excluding missing values.\n",
       "\n",
       "Parameters\n",
       "----------\n",
       "other : Series\n",
       "    Series with which to compute the correlation.\n",
       "method : {'pearson', 'kendall', 'spearman'} or callable\n",
       "    * pearson : standard correlation coefficient\n",
       "    * kendall : Kendall Tau correlation coefficient\n",
       "    * spearman : Spearman rank correlation\n",
       "    * callable: callable with input two 1d ndarrays\n",
       "        and returning a float. Note that the returned matrix from corr\n",
       "        will have 1 along the diagonals and will be symmetric\n",
       "        regardless of the callable's behavior\n",
       "        .. versionadded:: 0.24.0\n",
       "\n",
       "min_periods : int, optional\n",
       "    Minimum number of observations needed to have a valid result.\n",
       "\n",
       "Returns\n",
       "-------\n",
       "float\n",
       "    Correlation with other.\n",
       "\n",
       "Examples\n",
       "--------\n",
       ">>> def histogram_intersection(a, b):\n",
       "...     v = np.minimum(a, b).sum().round(decimals=1)\n",
       "...     return v\n",
       ">>> s1 = pd.Series([.2, .0, .6, .2])\n",
       ">>> s2 = pd.Series([.3, .6, .0, .1])\n",
       ">>> s1.corr(s2, method=histogram_intersection)\n",
       "0.3\n",
       "\u001b[1;31mFile:\u001b[0m      c:\\users\\avitu\\.virtualenvs\\traffic-cw6epypu\\lib\\site-packages\\pandas\\core\\series.py\n",
       "\u001b[1;31mType:\u001b[0m      function\n"
      ]
     },
     "metadata": {},
     "output_type": "display_data"
    }
   ],
   "source": [
    "pd.Series.corr?"
   ]
  },
  {
   "cell_type": "code",
   "execution_count": 103,
   "metadata": {},
   "outputs": [],
   "source": [
    "method =['pearson', 'kendall', 'spearman',][0]\n",
    "ddd = ddd.interpolate().ffill().bfill()\n",
    "is_d1_longer = len(df_1) >= len(df_2)\n",
    "d1 = df_1.y if is_d1_longer else df_2.y  #ddd[[col for col in ddd.columns if col.endswith('_1')]]\n",
    "d2 = df_2.y if is_d1_longer else df_1.y\n",
    "\n",
    "d2 = d2.dropna()\n",
    "d1 = d1.dropna()\n",
    "\n",
    "length_diff = len(d1) - len(d2)\n",
    "d2 = pd.concat([d2, pd.Series([np.nan]* length_diff)])\n",
    "\n",
    "min_periods=20"
   ]
  },
  {
   "cell_type": "code",
   "execution_count": 104,
   "metadata": {},
   "outputs": [
    {
     "name": "stdout",
     "output_type": "stream",
     "text": [
      "(148, 148, 148, 129)\n"
     ]
    },
    {
     "data": {
      "image/png": "[encoded data removed]",
      "text/plain": [
       "<Figure size 1008x720 with 2 Axes>"
      ]
     },
     "metadata": {
      "needs_background": "light"
     },
     "output_type": "display_data"
    }
   ],
   "source": [
    "rs = pd.Series([d1.corr(pd.concat([pd.Series([np.nan]* (lag)), d2]).reset_index(drop=True), method=method, min_periods=min_periods) for lag in range(len(d1))])\n",
    "offset = rs.idxmax() \n",
    "best_correlation = rs[offset]\n",
    "\n",
    "f, axs = plt.subplots(nrows=2, ncols=1, figsize=(14,10), gridspec_kw={'height_ratios': [1,5]})\n",
    "ax_corr, ax_signals = axs\n",
    "\n",
    "d_synced = pd.concat([pd.Series([np.nan]* (offset)), d2]).reset_index(drop=True)\n",
    "#  ---- Plot ----\n",
    "xlim, ylim =[0, len(d1)], None\n",
    "ax_corr.plot(rs)\n",
    "ax_corr.axvline(np.ceil(len(rs)/2),color='k',linestyle='--',label='Center')\n",
    "ax_corr.axvline(offset,color='r',linestyle='--',label='Peak synchrony')\n",
    "ax_corr.set(title=f'Offset = {offset}; Correlation = {best_correlation}',ylim=ylim,xlim=ylim, xlabel='Offset',ylabel='Pearson r')\n",
    "legend = ax_corr.legend()\n",
    "\n",
    "ax_signals.invert_yaxis()\n",
    "ax_signals.plot(d1, label='d1')\n",
    "ax_signals.plot(d_synced, label='d_synced')\n",
    "ax_signals.plot(d2, label='d2')\n",
    "ax_signals.set(title=f'Signals',ylim=ylim, xlim=ylim, xlabel='X',ylabel='Y Value')\n",
    "legend = ax_signals.legend()\n",
    "\n",
    "print((len(d1), len(d2), len(rs), len(rs.dropna())))"
   ]
  },
  {
   "cell_type": "markdown",
   "metadata": {},
   "source": [
    "---\n",
    "### Experimental correlation"
   ]
  },
  {
   "cell_type": "code",
   "execution_count": 100,
   "metadata": {},
   "outputs": [
    {
     "data": {
      "text/html": [
       "<div>\n",
       "<style scoped>\n",
       "    .dataframe tbody tr th:only-of-type {\n",
       "        vertical-align: middle;\n",
       "    }\n",
       "\n",
       "    .dataframe tbody tr th {\n",
       "        vertical-align: top;\n",
       "    }\n",
       "\n",
       "    .dataframe thead th {\n",
       "        text-align: right;\n",
       "    }\n",
       "</style>\n",
       "<table border=\"1\" class=\"dataframe\">\n",
       "  <thead>\n",
       "    <tr style=\"text-align: right;\">\n",
       "      <th></th>\n",
       "      <th>frame_1</th>\n",
       "      <th>x_1</th>\n",
       "      <th>y_1</th>\n",
       "      <th>angle_diff_1</th>\n",
       "      <th>angle_1</th>\n",
       "    </tr>\n",
       "  </thead>\n",
       "  <tbody>\n",
       "    <tr>\n",
       "      <th>frame_2</th>\n",
       "      <td>0.894425</td>\n",
       "      <td>0.896218</td>\n",
       "      <td>-0.971596</td>\n",
       "      <td>0.358519</td>\n",
       "      <td>-0.378460</td>\n",
       "    </tr>\n",
       "    <tr>\n",
       "      <th>x_2</th>\n",
       "      <td>0.894425</td>\n",
       "      <td>0.896218</td>\n",
       "      <td>-0.971596</td>\n",
       "      <td>0.358519</td>\n",
       "      <td>-0.378460</td>\n",
       "    </tr>\n",
       "    <tr>\n",
       "      <th>y_2</th>\n",
       "      <td>0.903224</td>\n",
       "      <td>0.904968</td>\n",
       "      <td>-0.951672</td>\n",
       "      <td>0.350257</td>\n",
       "      <td>-0.379640</td>\n",
       "    </tr>\n",
       "    <tr>\n",
       "      <th>angle_diff_2</th>\n",
       "      <td>0.259356</td>\n",
       "      <td>0.259305</td>\n",
       "      <td>-0.166882</td>\n",
       "      <td>0.031513</td>\n",
       "      <td>-0.017659</td>\n",
       "    </tr>\n",
       "    <tr>\n",
       "      <th>angle_2</th>\n",
       "      <td>-0.456933</td>\n",
       "      <td>-0.457420</td>\n",
       "      <td>0.419201</td>\n",
       "      <td>-0.209722</td>\n",
       "      <td>0.156288</td>\n",
       "    </tr>\n",
       "  </tbody>\n",
       "</table>\n",
       "</div>"
      ],
      "text/plain": [
       "               frame_1       x_1       y_1  angle_diff_1   angle_1\n",
       "frame_2       0.894425  0.896218 -0.971596      0.358519 -0.378460\n",
       "x_2           0.894425  0.896218 -0.971596      0.358519 -0.378460\n",
       "y_2           0.903224  0.904968 -0.951672      0.350257 -0.379640\n",
       "angle_diff_2  0.259356  0.259305 -0.166882      0.031513 -0.017659\n",
       "angle_2      -0.456933 -0.457420  0.419201     -0.209722  0.156288"
      ]
     },
     "execution_count": 100,
     "metadata": {},
     "output_type": "execute_result"
    }
   ],
   "source": [
    "# experimental\n",
    "%matplotlib inline\n",
    "ddd[['x_1','x_2']].corr()\n",
    "ddd[['x_1','x_2']].corr()\n",
    "method =['pearson', 'kendall', 'spearman'][0]\n",
    "# df_cor = df_cor[[col for col in df_cor.columns if col.endswith('_1')]]\n",
    "\n",
    "df_cor = ddd.corr(method=method)\n",
    "# check correlation only for drive 2 va drive 1, and drop non interesting (ids etc)\n",
    "df_cor = df_cor.loc[[idx for idx in df_cor.index if idx.endswith('_2')], [col for col in df_cor.columns if col.endswith('_1')]]\n",
    "df_cor = df_cor.dropna(how='all',axis=0).dropna(how='all',axis=1)\n",
    "\n",
    "# sns.heatmap(df_cor, annot=True)\n",
    "df_cor\n",
    "# ddd.x_1.corr(ddd.x_2)"
   ]
  },
  {
   "cell_type": "markdown",
   "metadata": {},
   "source": [
    "___\n",
    "##  Dynamic Time Warping "
   ]
  },
  {
   "cell_type": "code",
   "execution_count": 101,
   "metadata": {},
   "outputs": [
    {
     "data": {
      "text/plain": [
       "\u001b[1;31mSignature:\u001b[0m \u001b[0maccelerated_dtw\u001b[0m\u001b[1;33m(\u001b[0m\u001b[0mx\u001b[0m\u001b[1;33m,\u001b[0m \u001b[0my\u001b[0m\u001b[1;33m,\u001b[0m \u001b[0mdist\u001b[0m\u001b[1;33m,\u001b[0m \u001b[0mwarp\u001b[0m\u001b[1;33m=\u001b[0m\u001b[1;36m1\u001b[0m\u001b[1;33m)\u001b[0m\u001b[1;33m\u001b[0m\u001b[1;33m\u001b[0m\u001b[0m\n",
       "\u001b[1;31mDocstring:\u001b[0m\n",
       "Computes Dynamic Time Warping (DTW) of two sequences in a faster way.\n",
       "Instead of iterating through each element and calculating each distance,\n",
       "this uses the cdist function from scipy (https://docs.scipy.org/doc/scipy/reference/generated/scipy.spatial.distance.cdist.html)\n",
       "\n",
       ":param array x: N1*M array\n",
       ":param array y: N2*M array\n",
       ":param string or func dist: distance parameter for cdist. When string is given, cdist uses optimized functions for the distance metrics.\n",
       "If a string is passed, the distance function can be 'braycurtis', 'canberra', 'chebyshev', 'cityblock', 'correlation', 'cosine', 'dice', 'euclidean', 'hamming', 'jaccard', 'kulsinski', 'mahalanobis', 'matching', 'minkowski', 'rogerstanimoto', 'russellrao', 'seuclidean', 'sokalmichener', 'sokalsneath', 'sqeuclidean', 'wminkowski', 'yule'.\n",
       ":param int warp: how many shifts are computed.\n",
       "Returns the minimum distance, the cost matrix, the accumulated cost matrix, and the wrap path.\n",
       "\u001b[1;31mFile:\u001b[0m      c:\\users\\avitu\\.virtualenvs\\traffic-cw6epypu\\lib\\site-packages\\dtw\\dtw.py\n",
       "\u001b[1;31mType:\u001b[0m      function\n"
      ]
     },
     "metadata": {},
     "output_type": "display_data"
    }
   ],
   "source": [
    "accelerated_dtw?"
   ]
  },
  {
   "cell_type": "code",
   "execution_count": 102,
   "metadata": {},
   "outputs": [
    {
     "ename": "NameError",
     "evalue": "name 'ids' is not defined",
     "output_type": "error",
     "traceback": [
      "\u001b[1;31m---------------------------------------------------------------------------\u001b[0m",
      "\u001b[1;31mNameError\u001b[0m                                 Traceback (most recent call last)",
      "\u001b[1;32m<ipython-input-102-97885b7e57a8>\u001b[0m in \u001b[0;36m<module>\u001b[1;34m\u001b[0m\n\u001b[0;32m     11\u001b[0m \u001b[0mplt\u001b[0m\u001b[1;33m.\u001b[0m\u001b[0mimshow\u001b[0m\u001b[1;33m(\u001b[0m\u001b[0macc_cost_matrix\u001b[0m\u001b[1;33m.\u001b[0m\u001b[0mT\u001b[0m\u001b[1;33m,\u001b[0m \u001b[0morigin\u001b[0m\u001b[1;33m=\u001b[0m\u001b[1;34m'lower'\u001b[0m\u001b[1;33m,\u001b[0m \u001b[0mcmap\u001b[0m\u001b[1;33m=\u001b[0m\u001b[1;34m'gray'\u001b[0m\u001b[1;33m,\u001b[0m \u001b[0minterpolation\u001b[0m\u001b[1;33m=\u001b[0m\u001b[1;34m'nearest'\u001b[0m\u001b[1;33m)\u001b[0m\u001b[1;33m\u001b[0m\u001b[1;33m\u001b[0m\u001b[0m\n\u001b[0;32m     12\u001b[0m \u001b[0mplt\u001b[0m\u001b[1;33m.\u001b[0m\u001b[0mplot\u001b[0m\u001b[1;33m(\u001b[0m\u001b[0mpath\u001b[0m\u001b[1;33m[\u001b[0m\u001b[1;36m0\u001b[0m\u001b[1;33m]\u001b[0m\u001b[1;33m,\u001b[0m \u001b[0mpath\u001b[0m\u001b[1;33m[\u001b[0m\u001b[1;36m1\u001b[0m\u001b[1;33m]\u001b[0m\u001b[1;33m,\u001b[0m \u001b[1;34m'w'\u001b[0m\u001b[1;33m)\u001b[0m\u001b[1;33m\u001b[0m\u001b[1;33m\u001b[0m\u001b[0m\n\u001b[1;32m---> 13\u001b[1;33m \u001b[0mplt\u001b[0m\u001b[1;33m.\u001b[0m\u001b[0mxlabel\u001b[0m\u001b[1;33m(\u001b[0m\u001b[1;34mf'Subject1 (len {len(df[df.id==ids[0]])})'\u001b[0m\u001b[1;33m)\u001b[0m\u001b[1;33m\u001b[0m\u001b[1;33m\u001b[0m\u001b[0m\n\u001b[0m\u001b[0;32m     14\u001b[0m \u001b[0mplt\u001b[0m\u001b[1;33m.\u001b[0m\u001b[0mylabel\u001b[0m\u001b[1;33m(\u001b[0m\u001b[1;34mf'Subject2 (len {len(df[df.id==ids[1]])})'\u001b[0m\u001b[1;33m)\u001b[0m\u001b[1;33m\u001b[0m\u001b[1;33m\u001b[0m\u001b[0m\n\u001b[0;32m     15\u001b[0m \u001b[0mplt\u001b[0m\u001b[1;33m.\u001b[0m\u001b[0mtitle\u001b[0m\u001b[1;33m(\u001b[0m\u001b[1;34mf'DTW Minimum Path with minimum distance: {np.round(d,2)}'\u001b[0m\u001b[1;33m)\u001b[0m\u001b[1;33m\u001b[0m\u001b[1;33m\u001b[0m\u001b[0m\n",
      "\u001b[1;31mNameError\u001b[0m: name 'ids' is not defined"
     ]
    },
    {
     "data": {
      "image/png": "[encoded data removed]",
      "text/plain": [
       "<Figure size 432x288 with 1 Axes>"
      ]
     },
     "metadata": {
      "needs_background": "light"
     },
     "output_type": "display_data"
    }
   ],
   "source": [
    "ddd_int = ddd.interpolate().ffill().bfill()\n",
    "# d1 = df['S1_Joy'].interpolate().values\n",
    "# d2 = df['S2_Joy'].interpolate().values\n",
    "# print(len(d1),len(d2))\n",
    "d1 = ddd_int[[col for col in ddd_int.columns if col.endswith('_1')]].values\n",
    "d2 = ddd_int[[col for col in ddd_int\n",
    "              .columns if col.endswith('_2')]].values\n",
    "\n",
    "d, cost_matrix, acc_cost_matrix, path = accelerated_dtw(d1,d2, dist='correlation')#euclidean\n",
    "\n",
    "plt.imshow(acc_cost_matrix.T, origin='lower', cmap='gray', interpolation='nearest')\n",
    "plt.plot(path[0], path[1], 'w')\n",
    "plt.xlabel(f'Subject1 (len {len(df[df.id==ids[0]])})')\n",
    "plt.ylabel(f'Subject2 (len {len(df[df.id==ids[1]])})')\n",
    "plt.title(f'DTW Minimum Path with minimum distance: {np.round(d,2)}')\n",
    "\n",
    "plt.show()"
   ]
  },
  {
   "cell_type": "code",
   "execution_count": null,
   "metadata": {},
   "outputs": [],
   "source": [
    "pd.DataFrame(list(zip(*path)))\n",
    "pd.DataFrame(cost_matrix)\n",
    "pd.DataFrame(acc_cost_matrix)\n",
    "d"
   ]
  },
  {
   "cell_type": "code",
   "execution_count": null,
   "metadata": {},
   "outputs": [],
   "source": []
  }
 ],
 "metadata": {
  "kernelspec": {
   "display_name": "Traffic",
   "language": "python",
   "name": "traffic"
  },
  "language_info": {
   "codemirror_mode": {
    "name": "ipython",
    "version": 3
   },
   "file_extension": ".py",
   "mimetype": "text/x-python",
   "name": "python",
   "nbconvert_exporter": "python",
   "pygments_lexer": "ipython3",
   "version": "3.6.8"
  }
 },
 "nbformat": 4,
 "nbformat_minor": 4
}
